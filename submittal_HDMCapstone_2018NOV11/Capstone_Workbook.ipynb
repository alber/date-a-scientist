{
 "cells": [
  {
   "cell_type": "markdown",
   "metadata": {},
   "source": [
    "## Imports Cell"
   ]
  },
  {
   "cell_type": "code",
   "execution_count": 99,
   "metadata": {},
   "outputs": [],
   "source": [
    "import pandas as pd\n",
    "from matplotlib import pyplot as plt\n",
    "from sklearn import preprocessing\n",
    "import numpy as np"
   ]
  },
  {
   "cell_type": "markdown",
   "metadata": {},
   "source": [
    "## Load DataFrame"
   ]
  },
  {
   "cell_type": "code",
   "execution_count": 2,
   "metadata": {},
   "outputs": [],
   "source": [
    "df = pd.read_csv(\"profiles.csv\")"
   ]
  },
  {
   "cell_type": "markdown",
   "metadata": {},
   "source": [
    "## Explore de Data"
   ]
  },
  {
   "cell_type": "code",
   "execution_count": 56,
   "metadata": {
    "scrolled": true
   },
   "outputs": [
    {
     "data": {
      "text/plain": [
       "english                                                                                             21828\n",
       "english (fluently)                                                                                   6628\n",
       "english (fluently), spanish (poorly)                                                                 2059\n",
       "english (fluently), spanish (okay)                                                                   1917\n",
       "english (fluently), spanish (fluently)                                                               1288\n",
       "english, spanish                                                                                      859\n",
       "english (fluently), french (poorly)                                                                   756\n",
       "english, spanish (okay)                                                                               655\n",
       "english, spanish (poorly)                                                                             609\n",
       "english (fluently), chinese (fluently)                                                                535\n",
       "english (fluently), french (okay)                                                                     532\n",
       "english (fluently), chinese (okay)                                                                    430\n",
       "english (poorly)                                                                                      310\n",
       "english (okay)                                                                                        306\n",
       "english, chinese                                                                                      306\n",
       "english (fluently), german (poorly)                                                                   263\n",
       "english, french (poorly)                                                                              245\n",
       "english (fluently), french (fluently)                                                                 215\n",
       "english, french (okay)                                                                                210\n",
       "english, french                                                                                       209\n",
       "english, spanish (fluently)                                                                           198\n",
       "english (fluently), japanese (poorly)                                                                 184\n",
       "english (fluently), chinese (poorly)                                                                  175\n",
       "english (fluently), german (okay)                                                                     160\n",
       "english (fluently), russian (fluently)                                                                147\n",
       "english (fluently), spanish (okay), french (poorly)                                                   143\n",
       "english (fluently), spanish (fluently), french (poorly)                                               143\n",
       "english (fluently), french (okay), spanish (poorly)                                                   133\n",
       "english (fluently), french (poorly), spanish (poorly)                                                 130\n",
       "english (fluently), italian (poorly)                                                                  115\n",
       "                                                                                                    ...  \n",
       "english, hindi (poorly), sanskrit (okay), spanish (poorly)                                              1\n",
       "english (fluently), yiddish (poorly), spanish (okay)                                                    1\n",
       "english, spanish (fluently), italian (poorly), french (poorly)                                          1\n",
       "english, french (fluently), c++, lisp                                                                   1\n",
       "english (fluently), japanese (poorly), hindi (fluently), spanish (poorly)                               1\n",
       "english (fluently), japanese (okay), spanish (okay), french (poorly), c++ (okay)                        1\n",
       "english (fluently), italian (poorly), lisp (okay), c++ (poorly)                                         1\n",
       "english (fluently), german (fluently), spanish (fluently), italian (fluently), french (fluently)        1\n",
       "english (fluently), spanish (poorly), french (poorly), croatian (poorly)                                1\n",
       "english (fluently), french (okay), spanish (okay), bengali (poorly)                                     1\n",
       "english, french (fluently), portuguese (fluently), spanish (okay)                                       1\n",
       "english (fluently), arabic (poorly), latin (fluently), other (okay)                                     1\n",
       "english (poorly), spanish (poorly), thai (poorly)                                                       1\n",
       "english (fluently), russian (fluently), c++ (poorly), lisp (poorly)                                     1\n",
       "english (fluently), french (poorly), spanish                                                            1\n",
       "english (fluently), swahili (fluently), urdu (fluently), french (okay), portuguese (poorly)             1\n",
       "english (fluently), belarusan, gujarati, lisp, russian (fluently)                                       1\n",
       "english (okay), other (fluently), basque (okay), welsh (okay), lisp (fluently)                          1\n",
       "english (fluently), spanish (poorly), french (poorly), sanskrit (poorly)                                1\n",
       "english (okay), japanese (fluently), chinese (poorly)                                                   1\n",
       "english (fluently), french (okay), italian (okay), hindi (fluently), other (fluently)                   1\n",
       "english, breton                                                                                         1\n",
       "english (fluently), russian (okay), tagalog (poorly), c++ (poorly), other (fluently)                    1\n",
       "english (fluently), c++ (okay), other (okay)                                                            1\n",
       "english (fluently), german (poorly), spanish (okay), sign language (poorly)                             1\n",
       "english (fluently), spanish (okay), turkish (poorly), other (poorly)                                    1\n",
       "english, spanish (fluently), farsi (poorly)                                                             1\n",
       "english (fluently), korean (fluently), french (fluently)                                                1\n",
       "english (fluently), frisian (okay), other (fluently)                                                    1\n",
       "english (fluently), spanish (okay), c++ (poorly), russian (poorly)                                      1\n",
       "Name: speaks, Length: 7647, dtype: int64"
      ]
     },
     "execution_count": 56,
     "metadata": {},
     "output_type": "execute_result"
    }
   ],
   "source": [
    "#df.job.head()\n",
    "#df.job.value_counts()\n",
    "#df.income.value_counts()\n",
    "#df.offspring.value_counts()\n",
    "#df.drugs.value_counts()\n",
    "df.speaks.value_counts()\n",
    "#df.body_type.value_counts()\n",
    "#df.pets.value_counts()\n",
    "#df.body_type.head()\n",
    "#df.essay2.head()\n",
    "#df.body_type.head()\n",
    "#df.job.head()\n",
    "#df.status.value_counts()\n",
    "#The top 5-ish most interesting columns values provided in descending order are:\n",
    "#... speaks\n",
    "#... job,income\n",
    "#... pets\n",
    "#... body_type\n",
    "#... sign\n"
   ]
  },
  {
   "cell_type": "markdown",
   "metadata": {},
   "source": [
    "## Visualize Data"
   ]
  },
  {
   "cell_type": "code",
   "execution_count": 68,
   "metadata": {},
   "outputs": [
    {
     "data": {
      "image/png": "[encoded data removed]",
      "text/plain": [
       "<Figure size 504x504 with 1 Axes>"
      ]
     },
     "metadata": {},
     "output_type": "display_data"
    }
   ],
   "source": [
    "def numerate_body_types(keystr):\n",
    "    if keystr != keystr:         #is_NaN\n",
    "        keystr = 'rather not say'#default        \n",
    "    body_type_map = {'rather not say':0, 'used up':1, 'skinny':2, 'thin':3, 'average':4, 'a little extra': 5, 'curvy':6, 'full figured':7, 'overweight':8, 'fit':9, 'athletic':10, 'jacked':11}\n",
    "    return body_type_map[keystr]\n",
    "\n",
    "def numerate_pets(keystr):\n",
    "    if keystr != keystr:                           #is_NaN\n",
    "        keystr = 'dislikes dogs and dislikes cats' #default\n",
    "    # dislike=0, like=1, have_own_dog=2, have_own_cat=3 ... its an stylishness scale\n",
    "    # pets_map = {'dislikes dogs':0,'dislikes cats':0,'dislikes dogs and dislikes cats':0,'dislikes dogs and likes cats':1,'dislikes dogs and has cats':2,'likes dogs and dislikes cats':1,'likes dogs and likes cats':2,'likes dogs':1,'likes dogs and has cats':4,'has dogs':2,'has dogs and likes cats':3,'has dogs and has cats':5,'has dogs and dislikes cats':2,'likes cats':1,'has cats':3}\n",
    "    # unique grouping scale\n",
    "    pets_map = {'dislikes dogs':0,'dislikes cats':1,'dislikes dogs and dislikes cats':2,'dislikes dogs and likes cats':3,'dislikes dogs and has cats':4,'likes dogs and dislikes cats':5,'likes dogs and likes cats':6,'likes dogs':7,'likes dogs and has cats':8,'has dogs':9,'has dogs and likes cats':10,'has dogs and has cats':11,'has dogs and dislikes cats':12,'likes cats':13,'has cats':14}\n",
    "    return pets_map[keystr]\n",
    "    \n",
    "df_body_type = df['body_type'].apply(numerate_body_types)\n",
    "df_pets = df['pets'].apply(numerate_pets)\n",
    "\n",
    "#print(type(df_pets))   \n",
    "#print(df_pets)\n",
    "#print(len(df_body_type), len(df_pets))\n",
    "plt.close('all')\n",
    "plt.figure(figsize=(7,7))\n",
    "plt.scatter(df_body_type, df_pets, color=\"b\", alpha=0.005)\n",
    "plt.xlabel(\"Body Types\")\n",
    "plt.ylabel(\"Pet Preferences\")\n",
    "plt.title(\"Visual Exploration 1\")\n",
    "#plt.show()\n",
    "plt.savefig('body_types_vs_preferences.png');\n"
   ]
  },
  {
   "cell_type": "code",
   "execution_count": 234,
   "metadata": {},
   "outputs": [
    {
     "name": "stdout",
     "output_type": "stream",
     "text": [
      "<class 'pandas.core.series.Series'>\n",
      "19    29072\n",
      "21    17227\n",
      "23     8682\n",
      "25     3249\n",
      "27     1662\n",
      "0        50\n",
      "22        1\n",
      "10        1\n",
      "6         1\n",
      "4         1\n",
      "dtype: int64\n"
     ]
    }
   ],
   "source": [
    "def numerate_speaks(keystr):\n",
    "    speaks_map = {'mandarin':20, 'spanish':19, 'english':18, 'hindi':17, 'arabic':16, 'portuguese':15, 'bengali':14, 'russian':13, 'japanese':12, 'punjabi':11, 'german':10, 'javanese':9, 'wu':8, 'malay':7, 'telugu':6, 'vietnamese':5, 'korean':4, 'french':3, 'marathi':2, 'tamil':1, 'other':1}\n",
    "    if keystr != keystr:         #is_NaN or language not in top20 wikipedia\n",
    "        keystr = 'other'         #default   \n",
    "    else:\n",
    "        lang_plus_quality_parts = keystr.split(' ')\n",
    "        keystr = lang_plus_quality_parts[0]\n",
    "        if keystr not in list(speaks_map):\n",
    "            keystr = 'other'        \n",
    "    return speaks_map[keystr]\n",
    "\n",
    "language_scores_list = []\n",
    "for speaksanswer in df['speaks']:\n",
    "    lang_score = 0\n",
    "    if isinstance(speaksanswer, float):\n",
    "        pass\n",
    "    else:\n",
    "        lang_list = speaksanswer.split(',')\n",
    "        crude_amt = len(lang_list)\n",
    "        steno_amt = 0\n",
    "        for lang in lang_list:\n",
    "            steno_amt += numerate_speaks(lang)\n",
    "        lang_score = crude_amt + steno_amt\n",
    "    language_scores_list.append(lang_score)\n",
    "df_langscore = pd.Series(language_scores_list)\n",
    "\n",
    "#pd.DataFrame({})\n",
    "print(type(df_langscore.value_counts()))\n",
    "print(df_langscore.value_counts())"
   ]
  },
  {
   "cell_type": "code",
   "execution_count": 81,
   "metadata": {},
   "outputs": [
    {
     "data": {
      "image/png": "[encoded data removed]",
      "text/plain": [
       "<Figure size 504x504 with 1 Axes>"
      ]
     },
     "metadata": {},
     "output_type": "display_data"
    }
   ],
   "source": [
    "plt.close('all')\n",
    "plt.figure(figsize=(7,7))\n",
    "plt.scatter(df_body_type, df_langscore, color=\"r\", alpha=0.005)\n",
    "plt.xlabel(\"Body Types\")\n",
    "plt.ylabel(\"Language Score\")\n",
    "plt.title(\"Visual Exploration 2\")\n",
    "plt.axis([-1,12,18,28])\n",
    "plt.show()"
   ]
  },
  {
   "cell_type": "code",
   "execution_count": 82,
   "metadata": {},
   "outputs": [
    {
     "data": {
      "text/plain": [
       "-1          48442\n",
       " 20000       2952\n",
       " 100000      1621\n",
       " 80000       1111\n",
       " 30000       1048\n",
       " 40000       1005\n",
       " 50000        975\n",
       " 60000        736\n",
       " 70000        707\n",
       " 150000       631\n",
       " 1000000      521\n",
       " 250000       149\n",
       " 500000        48\n",
       "Name: income, dtype: int64"
      ]
     },
     "execution_count": 82,
     "metadata": {},
     "output_type": "execute_result"
    }
   ],
   "source": [
    "df.income.value_counts()"
   ]
  },
  {
   "cell_type": "code",
   "execution_count": 96,
   "metadata": {},
   "outputs": [
    {
     "name": "stdout",
     "output_type": "stream",
     "text": [
      "44564      48442\n",
      "20000       2952\n",
      "100000      1621\n",
      "80000       1111\n",
      "30000       1048\n",
      "40000       1005\n",
      "50000        975\n",
      "60000        736\n",
      "70000        707\n",
      "150000       631\n",
      "1000000      521\n",
      "250000       149\n",
      "500000        48\n",
      "Name: income_meaned, dtype: int64\n",
      "4.0     14652\n",
      "9.0     12711\n",
      "10.0    11819\n",
      "3.0      4711\n",
      "6.0      3924\n",
      "5.0      2629\n",
      "2.0      1777\n",
      "7.0      1009\n",
      "8.0       444\n",
      "11.0      421\n",
      "1.0       355\n",
      "0.0       198\n",
      "Name: bodytype_code, dtype: int64\n"
     ]
    },
    {
     "data": {
      "image/png": "[encoded data removed]",
      "text/plain": [
       "<Figure size 504x504 with 1 Axes>"
      ]
     },
     "metadata": {},
     "output_type": "display_data"
    }
   ],
   "source": [
    "national_average = 44564\n",
    "income_mapping = {-1:national_average, 20000:20000, 100000:100000, 80000:80000,30000:30000, 40000:40000, 50000:50000, 60000:60000, 70000:70000, 150000:150000,1000000:1000000, 250000:250000, 500000:500000}\n",
    "df[\"income_meaned\"] = df.income.map(income_mapping)\n",
    "print(df.income_meaned.value_counts())\n",
    "\n",
    "body_type_mapping = {'rather not say':0, 'used up':1, 'skinny':2, 'thin':3, 'average':4, 'a little extra': 5, 'curvy':6, 'full figured':7, 'overweight':8, 'fit':9, 'athletic':10, 'jacked':11}\n",
    "df[\"bodytype_code\"] = df.body_type.map(body_type_mapping)\n",
    "print(df.bodytype_code.value_counts())\n",
    "\n",
    "feature_data_wonan = df.dropna(subset=['bodytype_code', 'income_meaned'])\n",
    "feature_data = feature_data_wonan[['bodytype_code', 'income_meaned']]\n",
    "min_max_scaler = preprocessing.MinMaxScaler()\n",
    "feature_data_scaled = min_max_scaler.fit_transform(feature_data)\n",
    "feature_data = pd.DataFrame(feature_data_scaled, columns=feature_data.columns)\n",
    "\n",
    "\n",
    "plt.close('all')\n",
    "plt.figure(figsize=(7,7))\n",
    "plt.scatter(feature_data['bodytype_code'], feature_data['income_meaned'], color=\"g\", alpha=0.015)\n",
    "plt.xlabel(\"Body Types N\")\n",
    "plt.ylabel(\"Language Score N\")\n",
    "plt.title(\"Visual Exploration 3\")\n",
    "plt.axis([-0.05,1.05, -0.03,0.3])\n",
    "plt.show()\n"
   ]
  },
  {
   "cell_type": "markdown",
   "metadata": {},
   "source": [
    "## Formulate My Question(s)"
   ]
  },
  {
   "cell_type": "markdown",
   "metadata": {},
   "source": [
    "Can we predict body type from pet preference, language aptitude and essay answers?"
   ]
  },
  {
   "cell_type": "markdown",
   "metadata": {},
   "source": [
    "## Augment the Data"
   ]
  },
  {
   "cell_type": "code",
   "execution_count": 112,
   "metadata": {},
   "outputs": [
    {
     "data": {
      "text/plain": [
       "0    3\n",
       "1    1\n",
       "2    3\n",
       "3    2\n",
       "4    0\n",
       "dtype: int64"
      ]
     },
     "execution_count": 112,
     "metadata": {},
     "output_type": "execute_result"
    }
   ],
   "source": [
    "\n",
    "pet_synonyms = ['cat', 'dog', 'beloved', 'treasure', 'jewel', 'darling', 'idol', 'beast', 'critter', 'mutt', 'stray']\n",
    "essay_cols = [\"essay0\",\"essay1\",\"essay2\",\"essay3\",\"essay4\",\"essay5\",\"essay6\",\"essay7\",\"essay8\",\"essay9\"]\n",
    "\n",
    "\n",
    "# Replacing the NaNs with empty strings\n",
    "all_essays = df[essay_cols].replace(np.nan, '', regex=True)\n",
    "# Combining the essays\n",
    "all_essays = all_essays[essay_cols].apply(lambda x: ' '.join(x), axis=1)\n",
    "\n",
    "essay_petcounts = []\n",
    "for essay in all_essays:\n",
    "    pet_mentions_count = 0\n",
    "    for synonym in pet_synonyms:\n",
    "        pet_mentions_count += essay.count(synonym)\n",
    "    essay_petcounts.append(pet_mentions_count)\n",
    "\n",
    "essay_petcounts_series = pd.Series(essay_petcounts)\n",
    "#essay_petcounts_series.head()\n",
    "#essay_petcounts_series.value_counts()\n",
    "    \n",
    "#df[\"essay_petcount\"] = all_essays.apply(lambda x: x.count(pet_synonyms[0]))\n",
    "#for i in range(1,11):\n",
    "#    synonym = pet_synonyms[i]\n",
    "#    df[\"essay_petcount\"] = all_essays.apply(lambda x: x.count(synonym) + x[[\"essay_petcount\"]])\n"
   ]
  },
  {
   "cell_type": "code",
   "execution_count": null,
   "metadata": {},
   "outputs": [],
   "source": [
    "# Putting it all Together we want to use\n",
    "# # essay_petcounts\n",
    "# # language score\n",
    "# # pet preference\n",
    "# # income\n",
    "\n",
    "# As features that can feed a classifier for body_type\n",
    "\n",
    "# Thus body_type integer value column is our labels/target\n"
   ]
  },
  {
   "cell_type": "markdown",
   "metadata": {},
   "source": [
    "## KNN Classifier"
   ]
  },
  {
   "cell_type": "code",
   "execution_count": 118,
   "metadata": {},
   "outputs": [
    {
     "name": "stdout",
     "output_type": "stream",
     "text": [
      "Body Type Target Labels <class 'pandas.core.series.Series'> Length: 59946\n",
      "Income Feature <class 'pandas.core.series.Series'> Length: 59946\n",
      "Language Feature <class 'pandas.core.series.Series'> Length: 59946\n",
      "Pet Preference Feature <class 'pandas.core.series.Series'> Length: 59946\n",
      "Pet Mentions Feature <class 'pandas.core.series.Series'> 59946\n"
     ]
    }
   ],
   "source": [
    "# Since data processing has been ... somewhat messy, here's some sanity checks\n",
    "\n",
    "print(\"Body Type Target Labels\", type(df[\"bodytype_code\"]), \"Length: \" + str(len(df[\"bodytype_code\"])))\n",
    "print(\"Income Feature\", type(df[\"income_meaned\"]), \"Length: \" + str(len(df[\"income_meaned\"])))\n",
    "print(\"Language Feature\", type(df_langscore), \"Length: \" + str(len(df_langscore)))\n",
    "print(\"Pet Preference Feature\", type(df_pets), \"Length: \" + str(len(df_pets)))\n",
    "print(\"Pet Mentions Feature\", type(df[\"essay_petcount\"]), str(len(df[\"essay_petcount\"])))\n",
    "\n"
   ]
  },
  {
   "cell_type": "code",
   "execution_count": 137,
   "metadata": {},
   "outputs": [
    {
     "name": "stdout",
     "output_type": "stream",
     "text": [
      "     income  langscore      pets  petscore\n",
      "0  0.025065   0.703704  0.428571  0.064516\n",
      "1  0.061224   0.851852  0.428571  0.032258\n",
      "2  0.025065   0.851852  1.000000  0.096774\n",
      "3  0.000000   0.777778  0.928571  0.064516\n",
      "4  0.025065   0.703704  0.428571  0.000000\n",
      "0     5.0\n",
      "1     4.0\n",
      "2     3.0\n",
      "3     3.0\n",
      "4    10.0\n",
      "Name: bodytype, dtype: float64\n",
      "54650\n",
      "54650\n",
      "\n",
      "\n",
      "Drumroll... KNN with K=3 Score is:  0.19066788655077768\n"
     ]
    }
   ],
   "source": [
    "from sklearn.neighbors import KNeighborsClassifier\n",
    "from sklearn.model_selection import train_test_split\n",
    "\n",
    "#tidying up. Some NaNs still have snuck in\n",
    "model_df = pd.DataFrame({'bodytype': df[\"bodytype_code\"], 'income':df[\"income_meaned\"], 'langscore': df_langscore, 'pets': df_pets, 'petscore':df[\"essay_petcount\"]})\n",
    "model_df = model_df.dropna()\n",
    "\n",
    "#sanity check\n",
    "model_df.head()\n",
    "len(model_df)\n",
    "\n",
    "#Now to Normalize\n",
    "model_df_features = model_df[['income', 'langscore', 'pets', 'petscore']]\n",
    "min_max_scaler = preprocessing.MinMaxScaler()\n",
    "model_array_scaled = min_max_scaler.fit_transform(model_df_features)\n",
    "model_df_scaled = pd.DataFrame(model_array_scaled, columns=model_df_features.columns)\n",
    "\n",
    "#sanity check\n",
    "print(model_df_scaled.head())\n",
    "print(model_df[\"bodytype\"].head())\n",
    "print(len(model_df_scaled))\n",
    "print(len(model_df[\"bodytype\"]))\n",
    "\n",
    "#funtimes, basic loop\n",
    "training_data, validation_data, training_labels, validation_labels = train_test_split(model_df_scaled, model_df[\"bodytype\"],test_size=0.2, random_state=1)\n",
    "classifier = KNeighborsClassifier(n_neighbors=3)\n",
    "classifier.fit(training_data, training_labels)\n",
    "\n",
    "knn5_score = classifier.score(validation_data, validation_labels)\n",
    "print(\"\\n\")\n",
    "print(\"Drumroll... KNN with K=3 Score is: \", knn5_score)\n"
   ]
  },
  {
   "cell_type": "code",
   "execution_count": 141,
   "metadata": {},
   "outputs": [],
   "source": [
    "#funtimes, sad trombone, score ~ 0.20... Looping through to find optimal K value\n",
    "knn_scores = [0,0,0]\n",
    "for k in range(3,120):\n",
    "    classifier = KNeighborsClassifier(n_neighbors=k)\n",
    "    classifier.fit(training_data, training_labels)\n",
    "    kscore = classifier.score(validation_data, validation_labels)\n",
    "    knn_scores.append(kscore)"
   ]
  },
  {
   "cell_type": "code",
   "execution_count": 237,
   "metadata": {},
   "outputs": [
    {
     "name": "stdout",
     "output_type": "stream",
     "text": [
      "80 0.2684354986276304\n",
      "81 0.27017383348581886\n",
      "82 0.26788655077767615\n",
      "83 0.2677035681610247\n",
      "84 0.2752973467520586\n",
      "85 0.27648673376029276\n",
      "86 0.26816102470265324\n",
      "87 0.26788655077767615\n",
      "88 0.26706312900274476\n",
      "89 0.2730100640439158\n"
     ]
    },
    {
     "data": {
      "image/png": "[encoded data removed]",
      "text/plain": [
       "<Figure size 504x504 with 1 Axes>"
      ]
     },
     "metadata": {},
     "output_type": "display_data"
    }
   ],
   "source": [
    "#visualize that score!\n",
    "x = range(0,120)\n",
    "plt.close('all')\n",
    "plt.figure(figsize=(7,7))\n",
    "plt.plot(x,knn_scores)\n",
    "plt.xlabel(\"K Value\")\n",
    "plt.ylabel(\"Score\")\n",
    "plt.title(\"Sad Trombone KNN Body Type Classifier\")\n",
    "#plt.show()\n",
    "\n",
    "for hot in range(80,90):\n",
    "    print(hot, knn_scores[hot])\n",
    "    \n",
    "    \n",
    "# And there you go, optimal K param is 85 for this sad classifier   \n",
    "# Sad classifier best configuration is K=85 with a Score=0.2764\n",
    "# ... upon further thought, considering this is trying to classify among 11 different bodytype categories\n",
    "# ... and 1/11 is 0.0909, having a classifier be roughly 3 times better than chance is not the worst\n",
    "\n",
    "plt.savefig(\"optimal_k_score_loop.png\");"
   ]
  },
  {
   "cell_type": "markdown",
   "metadata": {},
   "source": [
    "## Can we turn things around into an Income Regressor?"
   ]
  },
  {
   "cell_type": "code",
   "execution_count": 170,
   "metadata": {},
   "outputs": [
    {
     "name": "stdout",
     "output_type": "stream",
     "text": [
      "Income Regressor Score:  -0.1043413142422651\n"
     ]
    }
   ],
   "source": [
    "from sklearn.neighbors import KNeighborsRegressor\n",
    "\n",
    "#Normalize\n",
    "rmodel_df_features = model_df[['langscore', 'pets', 'petscore', 'bodytype']]\n",
    "min_max_scaler = preprocessing.MinMaxScaler()\n",
    "rmodel_array_scaled = min_max_scaler.fit_transform(rmodel_df_features)\n",
    "rmodel_df_scaled = pd.DataFrame(rmodel_array_scaled, columns=rmodel_df_features.columns)\n",
    "\n",
    "#Funtimes\n",
    "rtraining_data, rvalidation_data, rtraining_labels, rvalidation_labels = train_test_split(rmodel_df_scaled, model_df[\"income\"],test_size=0.2, random_state=1)\n",
    "regressor = KNeighborsRegressor(n_neighbors=85, weights=\"distance\") \n",
    "regressor.fit(rtraining_data, rtraining_labels)\n",
    "\n",
    "#Sanity Check\n",
    "#print(rvalidation_data.head())\n",
    "#print(rvalidation_labels.head())\n",
    "\n",
    "rvalidation_data_predicted = regressor.predict(rvalidation_data)\n",
    "rscore = regressor.score(rvalidation_data, rvalidation_labels)\n",
    "\n",
    "print(\"Income Regressor Score: \", rscore)\n",
    "# Wow dang,  -0.10434 ... that is a bad regressor. \n",
    "# And I Quote: The best possible score is 1.0 and it can be negative (because the model can be arbitrarily worse)"
   ]
  },
  {
   "cell_type": "markdown",
   "metadata": {},
   "source": [
    "## Can we come up with a more tolerant Score function \n",
    "Theory here: IF we could accept a +5k -5k divergence from predictions as \"Good\" would the Regressor still be terrible ?\n"
   ]
  },
  {
   "cell_type": "code",
   "execution_count": 180,
   "metadata": {},
   "outputs": [
    {
     "name": "stdout",
     "output_type": "stream",
     "text": [
      "Predicted Income Score to within $ 5k of true measure 0.3690182084362705\n",
      "Predicted Income Score to within $ 10k of true measure 0.5371946198188307\n"
     ]
    }
   ],
   "source": [
    "def incomescorer(predictions, truelabels, tolerance):\n",
    "    scores = []\n",
    "    tolerance_limit = tolerance + 1\n",
    "    for i in range(1, len(predictions)):\n",
    "        delta = truelabels[i] - predictions[i]\n",
    "        if abs(delta) < tolerance_limit:\n",
    "            scores.append(1)\n",
    "        else:\n",
    "            scores.append(0)\n",
    "    scoresum = sum(scores);\n",
    "    finalscore = scoresum/float(len(scores))\n",
    "    return finalscore\n",
    "\n",
    "incomescore_5k = incomescorer(rvalidation_data_predicted.flatten().tolist(), rvalidation_labels.values, 5000)\n",
    "incomescore_10k = incomescorer(rvalidation_data_predicted.flatten().tolist(), rvalidation_labels.values, 10000)\n",
    "print(\"Predicted Income Score to within $ 5k of true measure\", incomescore_5k)\n",
    "print(\"Predicted Income Score to within $ 10k of true measure\", incomescore_10k)\n",
    "\n",
    "# OK still bad but not so pathetic as before"
   ]
  },
  {
   "cell_type": "code",
   "execution_count": 182,
   "metadata": {},
   "outputs": [],
   "source": [
    "# Let's see if we can improve by tweaking K, even though the Classifier is optimal on K=85, maybe this regressor isn't\n",
    "\n",
    "def get_score_for_neighbors_set_to(kval):\n",
    "    regressor = KNeighborsRegressor(n_neighbors=kval, weights=\"distance\") \n",
    "    regressor.fit(rtraining_data, rtraining_labels)\n",
    "    rvalidation_data_predicted = regressor.predict(rvalidation_data)\n",
    "    iscore = incomescorer(rvalidation_data_predicted.flatten().tolist(), rvalidation_labels.values, 5000)\n",
    "    return iscore\n",
    "\n",
    "\n",
    "income_scores = [0,0,0]\n",
    "for kn in range(3,120):\n",
    "    income_scores.append(get_score_for_neighbors_set_to(kn))"
   ]
  },
  {
   "cell_type": "code",
   "execution_count": 238,
   "metadata": {},
   "outputs": [
    {
     "name": "stdout",
     "output_type": "stream",
     "text": [
      "5 0.5126727056455302\n",
      "6 0.5184371854698508\n",
      "7 0.5398481105316132\n",
      "8 0.536737121420075\n",
      "9 0.5415866044468844\n",
      "10 0.5617165339921311\n",
      "11 0.5494555769054809\n",
      "12 0.5599780400768597\n",
      "13 0.5188031841888553\n",
      "14 0.5423186018848934\n",
      "15 0.5569585506450727\n",
      "16 0.5407631073291244\n",
      "17 0.5462530881141916\n",
      "18 0.5383841156555952\n",
      "19 0.5097447158934943\n",
      "Optimal Score to Within $10k:  0.6863390978131576\n"
     ]
    },
    {
     "data": {
      "image/png": "[encoded data removed]",
      "text/plain": [
       "<Figure size 504x504 with 1 Axes>"
      ]
     },
     "metadata": {},
     "output_type": "display_data"
    }
   ],
   "source": [
    "#visualize that score!\n",
    "x = range(0,120)\n",
    "plt.close('all')\n",
    "plt.figure(figsize=(7,7))\n",
    "plt.plot(x,income_scores)\n",
    "plt.xlabel(\"K Value\")\n",
    "plt.ylabel(\"Within-$5000-Score\")\n",
    "plt.title(\"Income Prediction Regressor\")\n",
    "#plt.show()\n",
    "\n",
    "for hotval in range(5,20):\n",
    "    print(hotval, income_scores[hotval])\n",
    "    \n",
    "# So now we know, K=10 is optimal for this Regressor.\n",
    "# Out of curiousity:\n",
    "regressor = KNeighborsRegressor(n_neighbors=10, weights=\"distance\") \n",
    "regressor.fit(rtraining_data, rtraining_labels)\n",
    "rvalidation_data_predicted = regressor.predict(rvalidation_data)\n",
    "iscore10n10k = incomescorer(rvalidation_data_predicted.flatten().tolist(), rvalidation_labels.values, 10000)\n",
    "print(\"Optimal Score to Within $10k: \", iscore10n10k)\n",
    "# 0.6863 ... needs improvement, let's keep a positive attitude\n",
    "\n",
    "plt.savefig('optimal_k_income_regressor.png');"
   ]
  },
  {
   "cell_type": "markdown",
   "metadata": {},
   "source": [
    "## Let's try an alternate Regressor so we can compare them!"
   ]
  },
  {
   "cell_type": "code",
   "execution_count": 220,
   "metadata": {},
   "outputs": [
    {
     "name": "stdout",
     "output_type": "stream",
     "text": [
      "Training Score:  0.0028537387599805175\n",
      "Validation Score:  0.001230499514043748\n",
      "       langscore      pets  petscore  bodytype\n",
      "40429   0.777778  0.500000  0.032258  0.454545\n",
      "51778   0.703704  0.428571  0.000000  0.363636\n",
      "30560   0.703704  0.071429  0.096774  0.909091\n",
      "19806   0.703704  0.142857  0.032258  0.181818\n",
      "2741    0.777778  0.642857  0.032258  0.363636\n",
      "10930\n",
      "10930\n"
     ]
    },
    {
     "data": {
      "image/png": "[encoded data removed]",
      "text/plain": [
       "<Figure size 432x288 with 1 Axes>"
      ]
     },
     "metadata": {},
     "output_type": "display_data"
    }
   ],
   "source": [
    "from sklearn.linear_model import LinearRegression\n",
    "\n",
    "linreg = LinearRegression()\n",
    "linreg_model = linreg.fit(rtraining_data, rtraining_labels)\n",
    "income_predicted = linreg_model.predict(rvalidation_data)\n",
    "\n",
    "plt.scatter(rvalidation_labels, income_predicted, alpha=0.3)\n",
    "plt.xlabel(\"Actual Income\")\n",
    "plt.ylabel(\"Predicted Income\")\n",
    "plt.title(\"MLR Income Predictions\")\n",
    "#plt.show()\n",
    "\n",
    "# If I am reading this correctly, this Regression gets almost everything wrong\n",
    "\n",
    "training_score = linreg_model.score(rtraining_data, rtraining_labels)\n",
    "validation_score = linreg_model.score(rvalidation_data, rvalidation_labels)\n",
    "\n",
    "print(\"Training Score: \", training_score)\n",
    "print(\"Validation Score: \", validation_score)\n",
    "\n",
    "# 0.0029 and 0.0012. Yep.\n",
    "\n",
    "# Did we forget to normalize or something like that?\n",
    "print(rtraining_data.head()) #nope\n",
    "# Let's ... uh, visualize the Line and get this over with\n",
    "coef = linreg_model.coef_\n",
    "intercept = linreg_model.intercept_\n",
    "linreg_line_points = []\n",
    "for coin in range(0,1093000,100):\n",
    "    y = (coef * coin) + intercept\n",
    "    linreg_line_points.append(y)\n",
    "\n",
    "# Sanity Checks\n",
    "print(len(linreg_line_points))\n",
    "print(len(rvalidation_labels.values.tolist()))"
   ]
  },
  {
   "cell_type": "code",
   "execution_count": 221,
   "metadata": {},
   "outputs": [
    {
     "data": {
      "image/png": "[encoded data removed]",
      "text/plain": [
       "<Figure size 432x288 with 1 Axes>"
      ]
     },
     "metadata": {},
     "output_type": "display_data"
    }
   ],
   "source": [
    "# Plot the Line(s)\n",
    "simple_x = np.array(range(0,1093000,100))\n",
    "simple_x = simple_x.reshape(-1,1)\n",
    "plt.plot(simple_x, linreg_line_points, color=\"red\")\n",
    "#plt.axis([0,1000000, 0, 1000000])\n",
    "plt.show()\n"
   ]
  },
  {
   "cell_type": "code",
   "execution_count": null,
   "metadata": {},
   "outputs": [],
   "source": []
  }
 ],
 "metadata": {
  "kernelspec": {
   "display_name": "Python 3",
   "language": "python",
   "name": "python3"
  },
  "language_info": {
   "codemirror_mode": {
    "name": "ipython",
    "version": 3
   },
   "file_extension": ".py",
   "mimetype": "text/x-python",
   "name": "python",
   "nbconvert_exporter": "python",
   "pygments_lexer": "ipython3",
   "version": "3.6.5"
  }
 },
 "nbformat": 4,
 "nbformat_minor": 2
}
